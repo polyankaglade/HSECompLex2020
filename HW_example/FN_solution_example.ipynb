{
 "cells": [
  {
   "cell_type": "code",
   "execution_count": 74,
   "metadata": {},
   "outputs": [],
   "source": [
    "from nltk.corpus import framenet as fn\n",
    "from tqdm import tqdm_notebook as tqdm"
   ]
  },
  {
   "cell_type": "markdown",
   "metadata": {},
   "source": [
    "1. Найдите все фреймы, в число ядерных (Core) элементов которых входит участник с ролью начальной точки перемещения (Source)."
   ]
  },
  {
   "cell_type": "code",
   "execution_count": 75,
   "metadata": {},
   "outputs": [
    {
     "data": {
      "application/vnd.jupyter.widget-view+json": {
       "model_id": "dd3b024d864f4301857c301d97ca3106",
       "version_major": 2,
       "version_minor": 0
      },
      "text/plain": [
       "HBox(children=(IntProgress(value=0, max=1221), HTML(value='')))"
      ]
     },
     "metadata": {},
     "output_type": "display_data"
    },
    {
     "name": "stdout",
     "output_type": "stream",
     "text": [
      "\n"
     ]
    }
   ],
   "source": [
    "result = []\n",
    "\n",
    "for i in tqdm(range(len(fn.frames()))):\n",
    "    frame = fn.frames()[i]\n",
    "    try:\n",
    "        if frame.FE.Source.coreType == 'Core':\n",
    "            result.append(frame.name)\n",
    "    except KeyError:\n",
    "        continue"
   ]
  },
  {
   "cell_type": "code",
   "execution_count": 76,
   "metadata": {},
   "outputs": [
    {
     "data": {
      "text/plain": [
       "51"
      ]
     },
     "execution_count": 76,
     "metadata": {},
     "output_type": "execute_result"
    }
   ],
   "source": [
    "len(result)"
   ]
  },
  {
   "cell_type": "code",
   "execution_count": 77,
   "metadata": {},
   "outputs": [
    {
     "name": "stdout",
     "output_type": "stream",
     "text": [
      "Becoming_detached, Being_detached, Bringing, Cause_fluidic_motion, Cause_motion, Container_focused_removing, Correctness, Cotheme, Departing, Detaching, Emanating, Emptying, Excreting, Fleeing, Fluidic_motion, Food_gathering, Getting_underway, Getting_vehicle_underway, Intentional_traversing, Level_of_light, Light_movement, Mass_motion, Motion, Motion_directional, Motion_noise, Motion_scenario, Operate_vehicle, Operate_vehicle_scenario, Optical_image, Passing, Path_shape, Planned_trajectory, Quitting_a_place, Removing, Removing_scenario, Ride_vehicle, Robbery, Self_motion, Sensation, Setting_out, Smuggling, Source_of_getting, Source_path_goal, Taking, Theft, Travel, Traversing, Use_vehicle, Vehicle_departure_initial_stage, Visiting_scenario_departing, Visitor_departure, "
     ]
    }
   ],
   "source": [
    "for res in result:\n",
    "    print(res, end=', ')"
   ]
  },
  {
   "cell_type": "markdown",
   "metadata": {},
   "source": [
    "2. Найдите все ядерные элементы фрейма Removing"
   ]
  },
  {
   "cell_type": "code",
   "execution_count": 78,
   "metadata": {},
   "outputs": [
    {
     "data": {
      "text/plain": [
       "[<frame ID=63 name=Removing>, <frame ID=1816 name=Removing_scenario>]"
      ]
     },
     "execution_count": 78,
     "metadata": {},
     "output_type": "execute_result"
    }
   ],
   "source": [
    "fn.frames('Removing')"
   ]
  },
  {
   "cell_type": "code",
   "execution_count": 79,
   "metadata": {},
   "outputs": [],
   "source": [
    "frame = fn.frames('Removing')[0]"
   ]
  },
  {
   "cell_type": "code",
   "execution_count": 80,
   "metadata": {},
   "outputs": [
    {
     "name": "stdout",
     "output_type": "stream",
     "text": [
      "Agent\n",
      "Theme\n",
      "Source\n",
      "Cause\n"
     ]
    }
   ],
   "source": [
    "for name, fe in frame.FE.items():\n",
    "    if fe.coreType == 'Core':\n",
    "        print(name)"
   ]
  },
  {
   "cell_type": "markdown",
   "metadata": {},
   "source": [
    "3. Найдите 5 примеров употребления лексемы take.v из фрейма Removing (с разметкой)"
   ]
  },
  {
   "cell_type": "code",
   "execution_count": 84,
   "metadata": {},
   "outputs": [
    {
     "name": "stdout",
     "output_type": "stream",
     "text": [
      "Once they had cooled completely we took them out carefully so we did n't disturb the curls too much . \n",
      "\n",
      "Among the items taken from his Darlington home were electric blankets , souvenirs and a treasured portrait of Winston Churchill given by a grateful constituent . \n",
      "\n",
      "The Walkman was lying in the road beside the vehicles , and Spicer later returned four cassettes taken from the Peugeot . \n",
      "\n",
      "` I 've a present for you , Endill , \" she said , and took from her pocket three bottles of different coloured cough medicine . \n",
      "\n",
      "On their way out of the church , Harry took from the rack of postcards one reproducing Sedley 's inscription . \n",
      "\n"
     ]
    }
   ],
   "source": [
    "for ex in frame.lexUnit['take.v'].exemplars[20:25]:\n",
    "    print(ex.text, end='\\n\\n')"
   ]
  },
  {
   "cell_type": "code",
   "execution_count": 83,
   "metadata": {},
   "outputs": [
    {
     "data": {
      "text/plain": [
       "lexical unit (1149): take.v\n",
       "\n",
       "[definition]\n",
       "  COD: remove from a place\n",
       "\n",
       "[frame] Removing(63)\n",
       "\n",
       "[POS] V\n",
       "\n",
       "[status] FN1_Sent\n",
       "\n",
       "[lexemes] take/V\n",
       "\n",
       "[semTypes] 0 semantic types\n",
       "\n",
       "[URL] https://framenet2.icsi.berkeley.edu/fnReports/data/lu/lu1149.xml\n",
       "\n",
       "[subCorpus] 54 subcorpora\n",
       "  V-480-swh, V-540-np-ap, V-550-np-np, V-570-np-ppfrom,\n",
       "  V-570-np-ppin, V-570-np-ppinto, V-570-np-ppoff, V-570-np-\n",
       "  ppto, V-620-np-ppother, V-650-np-pother, V-660-trans-simple,\n",
       "  V-670-pass-by, V-680-pass, V-690-trans-other, V-700-ap,\n",
       "  V-710-adverbaway, V-710-adverboutside, V-730-ppfrom,\n",
       "  V-730-ppin, V-730-ppinto, V-730-ppoff, V-730-ppout,\n",
       "  V-730-ppto, V-780-ppother, V-810-pother, V-820-avpaway,\n",
       "  V-820-avpback, V-820-avpdown, V-820-avpoff, V-820-avpout,\n",
       "  V-829-pass-avpaway, V-829-pass-avpback, V-829-pass-avpdown,\n",
       "  V-829-pass-avpoff, V-829-pass-avpout, V-830-avpaway-np,\n",
       "  V-830-avpback-np, V-830-avpdown-np, V-830-avpoff-np,\n",
       "  V-830-avpout-np, V-840-np-avpaway, V-840-np-avpback,\n",
       "  V-840-np-avpdown, V-840-np-avpoff, V-840-np-avpout,\n",
       "  V-860-avpaway-p, V-860-avpback-p, V-860-avpdown-p,\n",
       "  V-860-avpoff-p, V-860-avpout-p, V-870-avpother,\n",
       "  V-890-intrans-adverb, V-900-other, manually-added\n",
       "\n",
       "[exemplars] 54 sentences across all subcorpora"
      ]
     },
     "execution_count": 83,
     "metadata": {},
     "output_type": "execute_result"
    }
   ],
   "source": [
    "frame.lexUnit['take.v']"
   ]
  },
  {
   "cell_type": "markdown",
   "metadata": {},
   "source": [
    "*Анна Полянская*"
   ]
  }
 ],
 "metadata": {
  "kernelspec": {
   "display_name": "Python 3",
   "language": "python",
   "name": "python3"
  },
  "language_info": {
   "codemirror_mode": {
    "name": "ipython",
    "version": 3
   },
   "file_extension": ".py",
   "mimetype": "text/x-python",
   "name": "python",
   "nbconvert_exporter": "python",
   "pygments_lexer": "ipython3",
   "version": "3.7.3"
  }
 },
 "nbformat": 4,
 "nbformat_minor": 2
}
