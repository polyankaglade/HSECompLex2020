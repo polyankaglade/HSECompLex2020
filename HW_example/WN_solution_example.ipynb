{
 "cells": [
  {
   "cell_type": "code",
   "execution_count": 139,
   "metadata": {},
   "outputs": [],
   "source": [
    "import pandas as pd"
   ]
  },
  {
   "cell_type": "code",
   "execution_count": 1,
   "metadata": {},
   "outputs": [],
   "source": [
    "import random\n",
    "from nltk.corpus import wordnet as wn"
   ]
  },
  {
   "cell_type": "markdown",
   "metadata": {},
   "source": [
    "## Мое решение (базовое)"
   ]
  },
  {
   "cell_type": "code",
   "execution_count": 53,
   "metadata": {},
   "outputs": [],
   "source": [
    "def my_solution(sentence):\n",
    "    \n",
    "    words = sentence.lower().split()\n",
    "    \n",
    "    n_tochange = random.randint(0, len(words))\n",
    "    id_tochange = []\n",
    "    \n",
    "    for i in range(n_tochange):\n",
    "        selected_id = random.randint(0, len(words)-1)\n",
    "        id_tochange.append(selected_id)\n",
    "        \n",
    "    for i in id_tochange:\n",
    "        word = words[i]\n",
    "        \n",
    "        syns = wn.synsets(word)\n",
    "        if len(syns) == 0:\n",
    "            continue\n",
    "        elif len(word) < 3:\n",
    "            continue\n",
    "        \n",
    "        synonyms = []\n",
    "        for syn in syns:\n",
    "            for l in syn.lemmas():\n",
    "                synonyms.append(l.name())\n",
    "        \n",
    "        new_word = random.choice(synonyms)\n",
    "        if new_word == word:\n",
    "            for _ in range(5):\n",
    "                new_word = random.choice(synonyms)\n",
    "                if new_word != word:\n",
    "                    break\n",
    "                \n",
    "            \n",
    "        words[i] = new_word\n",
    "        \n",
    "        print(f'меняю {word} на {new_word} из списка {synonyms}')\n",
    "        \n",
    "    return ' '.join(words)"
   ]
  },
  {
   "cell_type": "code",
   "execution_count": 54,
   "metadata": {},
   "outputs": [],
   "source": [
    "def anti(sentence):\n",
    "    new_sentence = my_solution(sentence)\n",
    "    while sentence == new_sentence:\n",
    "        new_sentence = my_solution(sentence)\n",
    "    return new_sentence"
   ]
  },
  {
   "cell_type": "code",
   "execution_count": 6,
   "metadata": {},
   "outputs": [
    {
     "name": "stdout",
     "output_type": "stream",
     "text": [
      "меняю sister на sis из списка ['sister', 'sis', 'Sister', 'sister', 'baby', 'babe', 'sister']\n",
      "меняю cake на bar из списка ['cake', 'bar', 'patty', 'cake', 'cake', 'coat', 'cake']\n",
      "меняю want на require из списка ['privation', 'want', 'deprivation', 'neediness', 'lack', 'deficiency', 'want', 'need', 'want', 'wish', 'wishing', 'want', 'desire', 'want', 'want', 'need', 'require', 'want', 'want', 'want']\n",
      "меняю birthday на natal_day из списка ['birthday', 'birthday', 'natal_day']\n"
     ]
    },
    {
     "data": {
      "text/plain": [
       "'I require to buy a bar for my sis natal_day'"
      ]
     },
     "execution_count": 6,
     "metadata": {},
     "output_type": "execute_result"
    }
   ],
   "source": [
    "anti('I want to buy a cake for my sister birthday')"
   ]
  },
  {
   "cell_type": "code",
   "execution_count": 12,
   "metadata": {},
   "outputs": [
    {
     "name": "stdout",
     "output_type": "stream",
     "text": [
      "меняю snowman на snowman из списка ['snowman']\n",
      "меняю build на figure из списка ['physique', 'build', 'body-build', 'habitus', 'human_body', 'physical_body', 'material_body', 'soma', 'build', 'figure', 'physique', 'anatomy', 'shape', 'bod', 'chassis', 'frame', 'form', 'flesh', 'construct', 'build', 'make', 'build_up', 'work_up', 'build', 'progress', 'build', 'establish', 'build', 'build', 'build', 'build', 'build', 'build_up', 'work_up', 'build', 'ramp_up', 'build']\n",
      "меняю want на wish из списка ['privation', 'want', 'deprivation', 'neediness', 'lack', 'deficiency', 'want', 'need', 'want', 'wish', 'wishing', 'want', 'desire', 'want', 'want', 'need', 'require', 'want', 'want', 'want']\n",
      "меняю figure на work_out из списка ['figure', 'fig', 'human_body', 'physical_body', 'material_body', 'soma', 'build', 'figure', 'physique', 'anatomy', 'shape', 'bod', 'chassis', 'frame', 'form', 'flesh', 'digit', 'figure', 'figure', 'name', 'figure', 'public_figure', 'figure', 'figure', 'figure', 'number', 'figure', 'trope', 'figure_of_speech', 'figure', 'image', 'figure', 'design', 'pattern', 'figure', 'figure', 'calculate', 'estimate', 'reckon', 'count_on', 'figure', 'forecast', 'figure', 'enter', 'visualize', 'visualise', 'envision', 'project', 'fancy', 'see', 'figure', 'picture', 'image', 'calculate', 'cipher', 'cypher', 'compute', 'work_out', 'reckon', 'figure', 'figure']\n"
     ]
    },
    {
     "data": {
      "text/plain": [
       "'do you wish to work_out a snowman'"
      ]
     },
     "execution_count": 12,
     "metadata": {},
     "output_type": "execute_result"
    }
   ],
   "source": [
    "anti('do you want to build a snowman')"
   ]
  },
  {
   "cell_type": "code",
   "execution_count": 19,
   "metadata": {},
   "outputs": [
    {
     "name": "stdout",
     "output_type": "stream",
     "text": [
      "меняю dog на domestic_dog из списка ['dog', 'domestic_dog', 'Canis_familiaris', 'frump', 'dog', 'dog', 'cad', 'bounder', 'blackguard', 'dog', 'hound', 'heel', 'frank', 'frankfurter', 'hotdog', 'hot_dog', 'dog', 'wiener', 'wienerwurst', 'weenie', 'pawl', 'detent', 'click', 'dog', 'andiron', 'firedog', 'dog', 'dog-iron', 'chase', 'chase_after', 'trail', 'tail', 'tag', 'give_chase', 'dog', 'go_after', 'track']\n",
      "меняю sister на babe из списка ['sister', 'sis', 'Sister', 'sister', 'baby', 'babe', 'sister']\n",
      "меняю want на need из списка ['privation', 'want', 'deprivation', 'neediness', 'lack', 'deficiency', 'want', 'need', 'want', 'wish', 'wishing', 'want', 'desire', 'want', 'want', 'need', 'require', 'want', 'want', 'want']\n",
      "меняю need на demand из списка ['need', 'demand', 'need', 'want', 'motivation', 'motive', 'need', 'indigence', 'need', 'penury', 'pauperism', 'pauperization', 'necessitate', 'ask', 'postulate', 'need', 'require', 'take', 'involve', 'call_for', 'demand', 'want', 'need', 'require', 'need']\n",
      "меняю demand на need из списка ['demand', 'demand', 'requirement', 'demand', 'demand', 'need', 'demand', 'demand', 'necessitate', 'ask', 'postulate', 'need', 'require', 'take', 'involve', 'call_for', 'demand', 'demand', 'exact', 'demand', 'demand', 'demand']\n"
     ]
    },
    {
     "data": {
      "text/plain": [
       "'I need to buy a domestic_dog for my babe birthday'"
      ]
     },
     "execution_count": 19,
     "metadata": {},
     "output_type": "execute_result"
    }
   ],
   "source": [
    "anti('I want to buy a dog for my sister birthday')"
   ]
  },
  {
   "cell_type": "code",
   "execution_count": 51,
   "metadata": {},
   "outputs": [
    {
     "name": "stdout",
     "output_type": "stream",
     "text": [
      "меняю not на non из списка ['not', 'non']\n",
      "меняю question на call_into_question из списка ['question', 'inquiry', 'enquiry', 'query', 'interrogation', 'question', 'head', 'question', 'interrogation', 'interrogative', 'interrogative_sentence', 'doubt', 'dubiousness', 'doubtfulness', 'question', 'motion', 'question', 'question', 'question', 'oppugn', 'call_into_question', 'interrogate', 'question', 'question', 'query', 'interview', 'question', 'wonder', 'question']\n",
      "меняю non на not из списка ['not', 'non']\n"
     ]
    },
    {
     "data": {
      "text/plain": [
       "'to be or not to be that is the call_into_question'"
      ]
     },
     "execution_count": 51,
     "metadata": {},
     "output_type": "execute_result"
    }
   ],
   "source": [
    "anti('to be or not to be that is the question')"
   ]
  },
  {
   "cell_type": "code",
   "execution_count": 58,
   "metadata": {},
   "outputs": [
    {
     "name": "stdout",
     "output_type": "stream",
     "text": [
      "меняю troubles на trouble из списка ['trouble', 'problem', 'fuss', 'trouble', 'bother', 'hassle', 'trouble', 'trouble', 'difficulty', 'worry', 'trouble', 'trouble', 'disturb', 'upset', 'trouble', 'trouble', 'put_out', 'inconvenience', 'disoblige', 'discommode', 'incommode', 'bother', 'perturb', 'unhinge', 'disquiet', 'trouble', 'cark', 'distract', 'disorder', 'trouble_oneself', 'trouble', 'bother', 'inconvenience_oneself', 'trouble', 'ail', 'pain']\n",
      "меняю slings на sling из списка ['sling', 'slingshot', 'sling', 'catapult', 'slingback', 'sling', 'sling', 'sling', 'scarf_bandage', 'triangular_bandage', 'sling', 'catapult', 'sling', 'sling', 'sling']\n",
      "меняю take на have из списка ['return', 'issue', 'take', 'takings', 'proceeds', 'yield', 'payoff', 'take', 'take', 'take', 'occupy', 'use_up', 'lead', 'take', 'direct', 'conduct', 'guide', 'take', 'get_hold_of', 'assume', 'acquire', 'adopt', 'take_on', 'take', 'take', 'read', 'bring', 'convey', 'take', 'take', 'take', 'choose', 'take', 'select', 'pick_out', 'accept', 'take', 'have', 'fill', 'take', 'occupy', 'consider', 'take', 'deal', 'look_at', 'necessitate', 'ask', 'postulate', 'need', 'require', 'take', 'involve', 'call_for', 'demand', 'take', 'film', 'shoot', 'take', 'remove', 'take', 'take_away', 'withdraw', 'consume', 'ingest', 'take_in', 'take', 'have', 'take', 'submit', 'take', 'accept', 'take', 'assume', 'take', 'strike', 'take_up', 'accept', 'admit', 'take', 'take_on', 'take', 'learn', 'study', 'read', 'take', 'claim', 'take', 'exact', 'take', 'make', 'aim', 'take', 'train', 'take_aim', 'direct', 'take', 'carry', 'pack', 'take', 'lease', 'rent', 'hire', 'charter', 'engage', 'take', 'subscribe', 'subscribe_to', 'take', 'take', 'take', 'take', 'have', 'claim', 'take', 'accept', 'take', 'contain', 'take', 'hold', 'take', 'drive', 'take', 'take', 'contract', 'take', 'get']\n",
      "меняю trouble на discommode из списка ['trouble', 'problem', 'fuss', 'trouble', 'bother', 'hassle', 'trouble', 'trouble', 'difficulty', 'worry', 'trouble', 'trouble', 'disturb', 'upset', 'trouble', 'trouble', 'put_out', 'inconvenience', 'disoblige', 'discommode', 'incommode', 'bother', 'perturb', 'unhinge', 'disquiet', 'trouble', 'cark', 'distract', 'disorder', 'trouble_oneself', 'trouble', 'bother', 'inconvenience_oneself', 'trouble', 'ail', 'pain']\n",
      "меняю die на kick_the_bucket из списка ['die', 'dice', 'die', 'die', 'die', 'decease', 'perish', 'go', 'exit', 'pass_away', 'expire', 'pass', 'kick_the_bucket', \"cash_in_one's_chips\", 'buy_the_farm', 'conk', 'give-up_the_ghost', 'drop_dead', 'pop_off', 'choke', 'croak', 'snuff_it', 'die', 'die', 'fail', 'go_bad', 'give_way', 'die', 'give_out', 'conk_out', 'go', 'break', 'break_down', 'die', 'die', 'die', 'die_out', 'die', 'die', 'pall', 'become_flat', 'die', 'die']\n",
      "меняю opposing на fight_back из списка ['oppose', 'fight', 'oppose', 'fight_back', 'fight_down', 'defend', 'oppose', 'counterbalance', 'pit', 'oppose', 'match', 'play_off', 'react', 'oppose', 'oppose', 'controvert', 'contradict', 'opponent', 'opposing']\n",
      "меняю fight_back на oppose из списка ['fight_back', 'fight', 'oppose', 'fight_back', 'fight_down', 'defend']\n",
      "меняю oppose на pit из списка ['oppose', 'fight', 'oppose', 'fight_back', 'fight_down', 'defend', 'oppose', 'counterbalance', 'pit', 'oppose', 'match', 'play_off', 'react', 'oppose', 'oppose', 'controvert', 'contradict']\n",
      "меняю arrows на pointer из списка ['arrow', 'pointer', 'arrow']\n",
      "меняю end на goal из списка ['end', 'terminal', 'end', 'ending', 'end', 'last', 'final_stage', 'goal', 'end', 'end', 'end', 'destruction', 'death', 'end', 'end', 'end', 'end', 'end', 'conclusion', 'end', 'close', 'closing', 'ending', 'end', 'remainder', 'remnant', 'oddment', 'end', 'end', 'stop', 'finish', 'terminate', 'cease', 'end', 'terminate', 'end', 'terminate', 'end']\n",
      "меняю sling на scarf_bandage из списка ['sling', 'slingshot', 'sling', 'catapult', 'slingback', 'sling', 'sling', 'sling', 'scarf_bandage', 'triangular_bandage', 'sling', 'catapult', 'sling', 'sling', 'sling']\n",
      "меняю arms на subdivision из списка ['weaponry', 'arms', 'implements_of_war', 'weapons_system', 'munition', 'coat_of_arms', 'arms', 'blazon', 'blazonry', 'arm', 'arm', 'branch', 'limb', 'weapon', 'arm', 'weapon_system', 'arm', 'branch', 'subdivision', 'arm', 'sleeve', 'arm', 'arm', 'build_up', 'fortify', 'gird', 'arm']\n",
      "меняю sleep на eternal_sleep из списка ['sleep', 'slumber', 'sleep', 'sopor', 'sleep', 'nap', 'rest', 'eternal_rest', 'sleep', 'eternal_sleep', 'quietus', 'sleep', 'kip', 'slumber', \"log_Z's\", \"catch_some_Z's\", 'sleep']\n",
      "меняю goal на end из списка ['goal', 'end', 'finish', 'destination', 'goal', 'goal', 'goal']\n",
      "меняю eternal_sleep на sleep из списка ['rest', 'eternal_rest', 'sleep', 'eternal_sleep', 'quietus']\n"
     ]
    },
    {
     "data": {
      "text/plain": [
       "'the scarf_bandage and pointer of outrageous fortune or to have subdivision against a sea of discommode and by pit end them to kick_the_bucket to sleep'"
      ]
     },
     "execution_count": 58,
     "metadata": {},
     "output_type": "execute_result"
    }
   ],
   "source": [
    "anti('The slings and arrows of outrageous fortune Or to take arms against a sea of troubles And by opposing end them To die to sleep')"
   ]
  },
  {
   "cell_type": "markdown",
   "metadata": {},
   "source": [
    "# Несколько быстрых экспериментов\n",
    "\n",
    "## парафраз или маска предложения через гиперонимы"
   ]
  },
  {
   "cell_type": "code",
   "execution_count": 122,
   "metadata": {},
   "outputs": [],
   "source": [
    "def mask(sentence):\n",
    "    \n",
    "    words = sentence.lower().split()\n",
    "    \n",
    "    for i in range(len(words)):\n",
    "        \n",
    "        word = words[i]\n",
    "        \n",
    "        syns = wn.synsets(word)\n",
    "        if len(syns) == 0:\n",
    "            continue\n",
    "        elif len(word) < 2:\n",
    "            continue\n",
    "        \n",
    "        hyper_all = []\n",
    "        for syn in syns:\n",
    "            for h in syn.hypernyms():\n",
    "                hyper_all.append(h.name().split('.')[0])\n",
    "                \n",
    "        if len(hyper_all) == 0:\n",
    "            continue\n",
    "                \n",
    "        hyper = list(frozenset(hyper_all))\n",
    "        \n",
    "        new_word = hyper[0]\n",
    "        if new_word == word:\n",
    "            for _ in range(5):\n",
    "                new_word = hyper[0]\n",
    "                if new_word != word:\n",
    "                    break\n",
    "                \n",
    "            \n",
    "        words[i] = new_word\n",
    "        \n",
    "        print(f'меняю {word} на {new_word} из списка {hyper}')\n",
    "        \n",
    "    return ' '.join(words)"
   ]
  },
  {
   "cell_type": "code",
   "execution_count": 123,
   "metadata": {},
   "outputs": [
    {
     "name": "stdout",
     "output_type": "stream",
     "text": [
      "меняю daughter на female_offspring из списка ['female_offspring']\n",
      "меняю wants на miss из списка ['miss', 'need', 'necessity', 'be', 'desire', 'demand', 'poverty', 'search']\n",
      "меняю buy на get из списка ['get', 'purchase', 'be', 'pay', 'believe']\n",
      "меняю dog на catch из списка ['catch', 'villain', 'support', 'canine', 'sausage', 'unpleasant_woman', 'domestic_animal', 'chap', 'pursue']\n",
      "меняю sister на female_sibling из списка ['female_sibling', 'nun', 'girl', 'member']\n",
      "меняю birthday на date из списка ['date', 'anniversary']\n"
     ]
    },
    {
     "data": {
      "text/plain": [
       "'my female_offspring miss to get a catch for her female_sibling date'"
      ]
     },
     "execution_count": 123,
     "metadata": {},
     "output_type": "execute_result"
    }
   ],
   "source": [
    "mask('my daughter wants to buy a dog for her sister birthday')"
   ]
  },
  {
   "cell_type": "markdown",
   "metadata": {},
   "source": [
    "## подсчет \"близости\" предложений = вероятность перефраза\n",
    "\n",
    "самое простое пословное сравнение (для этого предложения должны быть одной длинны, можно использовать автоматический паддинг, можно выставлять соответствие вручную, можно пойти чуть дальше и выравнивать, например, по частям речи)"
   ]
  },
  {
   "cell_type": "code",
   "execution_count": 153,
   "metadata": {},
   "outputs": [],
   "source": [
    "def paraphrase_sim(sent1, sent2):\n",
    "    \n",
    "    if len(sent1) != len(sent2):\n",
    "        raise ValueError('sentences are not aligned, padding needed')\n",
    "        \n",
    "    res = []\n",
    "    for w1, w2 in zip(sent1, sent2):\n",
    "        \n",
    "        if w1 == w2:\n",
    "            res.append(1.0)\n",
    "            continue\n",
    "        \n",
    "        s1 = wn.synsets(w1)\n",
    "        s2 = wn.synsets(w2)\n",
    "        \n",
    "        if len(s1) == 0 or len(s2) == 0:\n",
    "            res.append(0.0)\n",
    "        else:\n",
    "            sim = s1[0].path_similarity(s2[0])\n",
    "            if sim is None:\n",
    "                sim = 0.0\n",
    "            res.append(sim)\n",
    "    return res"
   ]
  },
  {
   "cell_type": "code",
   "execution_count": 185,
   "metadata": {
    "scrolled": true
   },
   "outputs": [
    {
     "name": "stdout",
     "output_type": "stream",
     "text": [
      "средняя схожесть: 0.5714370596723537\n"
     ]
    }
   ],
   "source": [
    "# сравнение результатов функции mask()\n",
    "s1 = 'my daughter wants to buy a dog for her sister birthday'.split()\n",
    "s2 = 'my female_offspring miss to get a catch for her female_sibling date'.split()\n",
    "sim = paraphrase_sim(s1, s2)\n",
    "print('средняя схожесть:', sum(sim)/len(s1))\n",
    "#pd.DataFrame({'w1': s1, 'w2': s2, 'sim': sim})"
   ]
  },
  {
   "cell_type": "code",
   "execution_count": 186,
   "metadata": {},
   "outputs": [
    {
     "name": "stdout",
     "output_type": "stream",
     "text": [
      "средняя схожесть: 0.510576923076923\n"
     ]
    }
   ],
   "source": [
    "s1 = 'nice  girl   want   to buy      a dog   for  her little sister'.split()\n",
    "s2 = 'good  woman  need   to purchase a puppy for  her young  cousin'.split()\n",
    "sim = paraphrase_sim(s1, s2)\n",
    "print('средняя схожесть:', sum(sim)/len(s1))\n",
    "#pd.DataFrame({'w1': s1, 'w2': s2, 'sim': sim})"
   ]
  },
  {
   "cell_type": "code",
   "execution_count": 187,
   "metadata": {},
   "outputs": [
    {
     "name": "stdout",
     "output_type": "stream",
     "text": [
      "средняя схожесть: 0.39858752358752353\n"
     ]
    }
   ],
   "source": [
    "s1 = 'my daughter wants to buy a dog for her sister birthday'.split()\n",
    "s2 = 'my dog barks to scary a postman for its own joy'.split()\n",
    "sim = paraphrase_sim(s1, s2)\n",
    "print('средняя схожесть:', sum(sim)/len(s1))\n",
    "#pd.DataFrame({'w1': s1, 'w2': s2, 'sim': sim})"
   ]
  },
  {
   "cell_type": "code",
   "execution_count": 188,
   "metadata": {},
   "outputs": [
    {
     "name": "stdout",
     "output_type": "stream",
     "text": [
      "средняя схожесть: 0.3431401931401931\n"
     ]
    }
   ],
   "source": [
    "s1 = 'nice  girl want   to buy  a dog      for  her little sister'.split()\n",
    "s2 = 'bad   man  reject to sell a elephant for  his big    brother'.split()\n",
    "sim = paraphrase_sim(s1, s2)\n",
    "print('средняя схожесть:', sum(sim)/len(s1))\n",
    "#pd.DataFrame({'w1': s1, 'w2': s2, 'sim': sim})"
   ]
  },
  {
   "cell_type": "code",
   "execution_count": 189,
   "metadata": {},
   "outputs": [
    {
     "name": "stdout",
     "output_type": "stream",
     "text": [
      "средняя схожесть: 0.21478521478521478\n"
     ]
    }
   ],
   "source": [
    "s1 = 'young  girl want <pad>  to    buy   a dog    for her    sister'.split()\n",
    "s2 = 'old    king live inside <pad> <pad> a forest for twenty years'.split()\n",
    "sim = paraphrase_sim(s1, s2)\n",
    "print('средняя схожесть:', sum(sim)/len(s1))\n",
    "#pd.DataFrame({'w1': s1, 'w2': s2, 'sim': sim})"
   ]
  },
  {
   "cell_type": "markdown",
   "metadata": {},
   "source": [
    "если удалить все полностью совпадающие элементы (т.е. смотреть только на различия):"
   ]
  },
  {
   "cell_type": "code",
   "execution_count": 195,
   "metadata": {},
   "outputs": [
    {
     "name": "stdout",
     "output_type": "stream",
     "text": [
      "средняя схожесть: 0.2309065934065934\n"
     ]
    }
   ],
   "source": [
    "s1 = 'nice  girl   want    buy       dog     little sister'.split()\n",
    "s2 = 'good  woman  need    purchase  puppy   young  cousin'.split()\n",
    "sim = paraphrase_sim(s1, s2)\n",
    "print('средняя схожесть:', sum(sim)/len(s1))\n",
    "#pd.DataFrame({'w1': s1, 'w2': s2, 'sim': sim})"
   ]
  },
  {
   "cell_type": "code",
   "execution_count": 196,
   "metadata": {},
   "outputs": [
    {
     "name": "stdout",
     "output_type": "stream",
     "text": [
      "средняя схожесть: 0.09681776556776556\n"
     ]
    }
   ],
   "source": [
    "s1 = 'nice  girl want    buy  dog      her little sister'.split()\n",
    "s2 = 'bad   man  reject  sell elephant his big    brother'.split()\n",
    "sim = paraphrase_sim(s1, s2)\n",
    "print('средняя схожесть:', sum(sim)/len(s1))\n",
    "#pd.DataFrame({'w1': s1, 'w2': s2, 'sim': sim})"
   ]
  },
  {
   "cell_type": "markdown",
   "metadata": {},
   "source": [
    "мне кажется, есть сымсл удалять вообще все служебные слова кроме союзов (т.к. все остальные не несут в себе особо никакой семантики, только грамматику)"
   ]
  }
 ],
 "metadata": {
  "kernelspec": {
   "display_name": "Python 3",
   "language": "python",
   "name": "python3"
  },
  "language_info": {
   "codemirror_mode": {
    "name": "ipython",
    "version": 3
   },
   "file_extension": ".py",
   "mimetype": "text/x-python",
   "name": "python",
   "nbconvert_exporter": "python",
   "pygments_lexer": "ipython3",
   "version": "3.7.3"
  }
 },
 "nbformat": 4,
 "nbformat_minor": 2
}
