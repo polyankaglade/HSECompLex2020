{
 "cells": [
  {
   "cell_type": "markdown",
   "metadata": {},
   "source": [
    "# Векторные модели. Word2Vec"
   ]
  },
  {
   "cell_type": "markdown",
   "metadata": {},
   "source": [
    "## Кратко о существующих системах\n",
    "\n",
    "**GloVe**\n",
    "\n",
    "GloVe берет и строит полную матрицу совместной встречаемости и после этого с помощью алгоритмов уменьшения размерности преобразует ее так, чтобы вектора были опредленной длины\n",
    "\n",
    "\n",
    "**Word2Vec**\n",
    "\n",
    "Это уже нейросеть и она на основе корпуса постепенно подбирает коэффициенты (значения в векторах) для каждого слова так, чтобы с помощью них можно было наилучшим образом предсказывать слова по контексту\n",
    "\n",
    "**FastText**\n",
    "\n",
    "Если мы берем конкретные слова, мы не можем ничего сказать о тех, что нам не встретились (например, уже видели вагон и строитель, а вот вагоностроителя у нас не было). Если мы возьмем слова не целиком, а в виде будквенных нграмм, то мы сможем сложить неизвестные слова.\n",
    "\n",
    "**AdaGram**\n",
    "\n",
    "Все предыдущие модели основаны на графических оболочках и не учитывают многозначность и омонимию. Есть только один вектор для слова \"ключ\" и мы ничего с этим не можем сделать. AdaGram исходит из предположения, что у слова есть n вариантов и если они действительно отличаются и достаточно часто встречаются, он умеет их разделить.\n",
    "\n",
    "**BERT и ELMo**\n",
    "\n",
    "Эти модели не просто могут отличить значения слов, о и скорректировать их вектора в зависимости от контекста, например, понять, что в отрывках “чистый ключ в лесной чаще” и “ключ от квартиры” совсем разные “ключи”. "
   ]
  },
  {
   "cell_type": "markdown",
   "metadata": {},
   "source": [
    "### Word2Vec"
   ]
  },
  {
   "cell_type": "markdown",
   "metadata": {},
   "source": [
    "Одной из самых известных моделей для работы с дистрибутивной семантикой является word2vec. Технология основана на нейронной сети, предсказывающей вероятность встретить слово в заданном контексте. Этот инструмент был разработан группой исследователей Google в 2013 году, руководителем проекта был Томаш Миколов (сейчас работает в Facebook). Вот две самые главные статьи:\n",
    "\n",
    "+ [Efficient Estimation of Word Representations inVector Space](https://arxiv.org/pdf/1301.3781.pdf)\n",
    "+ [Distributed Representations of Words and Phrases and their Compositionality](https://arxiv.org/abs/1310.4546)\n",
    "\n",
    "Полученные таким образом вектора называются распределенными представлениями слов, или **эмбеддингами**."
   ]
  },
  {
   "cell_type": "markdown",
   "metadata": {},
   "source": [
    "#### Как это обучается?\n",
    "\n",
    "Мы задаём вектор для каждого слова с помощью матрицы $w$ и вектор контекста с помощью матрицы $W$. По сути, word2vec является обобщающим названием для двух архитектур Skip-Gram и Continuous Bag-Of-Words (CBOW).\n",
    "\n",
    "+ **CBOW** предсказывает текущее слово, исходя из окружающего его контекста.\n",
    "\n",
    "+ **Skip-gram**, наоборот, использует текущее слово, чтобы предугадывать окружающие его слова.\n",
    "\n",
    "#### Как это работает?\n",
    "\n",
    "Word2vec принимает большой текстовый корпус в качестве входных данных и сопоставляет каждому слову вектор, выдавая координаты слов на выходе. Сначала он создает словарь, «обучаясь» на входных текстовых данных, а затем вычисляет векторное представление слов. Векторное представление основывается на контекстной близости: слова, встречающиеся в тексте рядом с одинаковыми словами (а следовательно, согласно дистрибутивной гипотезе, имеющие схожий смысл), в векторном представлении будут иметь близкие координаты векторов-слов. Для вычисления близости слов используется косинусное расстояние между их векторами.\n",
    "\n",
    "С помощью дистрибутивных векторных моделей можно строить семантические пропорции (они же аналогии) и решать примеры:\n",
    "\n",
    "+ король: мужчина = королева: женщина $\\Rightarrow$\n",
    "+ король - мужчина + женщина = королева\n",
    "\n",
    "![w2v](https://cdn-images-1.medium.com/max/2600/1*sXNXYfAqfLUeiDXPCo130w.png)\n",
    "\n",
    "Ещё про механику с картинками [тут](https://habr.com/ru/post/446530/)\n",
    "\n",
    "#### Зачем это нужно?\n",
    "\n",
    "+ используется для решения семантических задач\n",
    "+ давайте подумаем, для описания каких семантических классов слов дистрибутивная информация особенно важна?\n",
    "+ несколько интересных статей по дистрибутивной семантике:\n",
    "\n",
    "* [Turney and Pantel 2010](https://jair.org/index.php/jair/article/view/10640)\n",
    "* [Lenci 2018](https://www.annualreviews.org/doi/abs/10.1146/annurev-linguistics-030514-125254?journalCode=linguistics)\n",
    "* [Smith 2019](https://arxiv.org/pdf/1902.06006.pdf)\n",
    "* [Pennington et al. 2014](https://www.aclweb.org/anthology/D14-1162/)\n",
    "* [Faruqui et al. 2015](https://www.aclweb.org/anthology/N15-1184/)\n",
    "\n",
    "+ подаётся на вход нейронным сетям\n",
    "+ используется в Siri, Google Assistant, Alexa, Google Translate...\n",
    "\n",
    "#### Gensim\n",
    "\n",
    "Использовать предобученную модель эмбеддингов или обучить свою можно с помощью библиотеки `gensim`. Вот ее [документация](https://radimrehurek.com/gensim/models/word2vec.html). Вообще-то `gensim` — библиотека для тематического моделирования текстов, но один из компонентов в ней — реализация на python алгоритмов из библиотеки word2vec (которая в оригинале была написана на C++).\n",
    "\n",
    "Если gensim у вас не стоит, то ставим: `pip install gensim`. Можно сделать это прямо из jupyter'а! Чтобы выполнить какую-то команду не в питоне, в командной строке, нужно написать перед ней восклицательный знак.\n"
   ]
  },
  {
   "cell_type": "code",
   "execution_count": 1,
   "metadata": {},
   "outputs": [],
   "source": [
    "import re\n",
    "import gensim\n",
    "import logging\n",
    "\n",
    "import pandas as pd\n",
    "\n",
    "\n",
    "from nltk.corpus import stopwords\n",
    "from gensim.models import word2vec\n",
    "\n",
    "import warnings\n",
    "warnings.filterwarnings('ignore')"
   ]
  },
  {
   "cell_type": "markdown",
   "metadata": {},
   "source": [
    "#### Как обучить свою модель\n",
    "\n",
    "NB! Обратите внимание, что тренировка модели не включает препроцессинг! Это значит, что избавляться от пунктуации, приводить слова к нижнему регистру, лемматизировать их, проставлять частеречные теги придется до тренировки модели (если, конечно, это необходимо для вашей задачи). Т.е. в каком виде слова будут в исходном тексте, в таком они будут и в модели.\n",
    "\n",
    "Поскольку иногда тренировка модели занимает много времени, то можно ещё вести лог событий, чтобы понимать, что на каком этапе происходит."
   ]
  },
  {
   "cell_type": "code",
   "execution_count": 2,
   "metadata": {},
   "outputs": [],
   "source": [
    "logging.basicConfig(format='%(asctime)s : %(levelname)s : %(message)s', level=logging.INFO)"
   ]
  },
  {
   "cell_type": "markdown",
   "metadata": {},
   "source": [
    "На вход модели даем текстовый файл, каждое предложение на отдельной строчке. Вот игрушечный пример с текстом «Бедной Лизы». Он заранее очищен от пунктуации, приведен к нижнему регистру и лемматизирован."
   ]
  },
  {
   "cell_type": "code",
   "execution_count": 3,
   "metadata": {},
   "outputs": [],
   "source": [
    "f = 'liza_lem.txt'\n",
    "data = gensim.models.word2vec.LineSentence(f)"
   ]
  },
  {
   "cell_type": "markdown",
   "metadata": {},
   "source": [
    "Инициализируем модель. Основные параметры:\n",
    "\n",
    "+ данные должны быть итерируемым объектом\n",
    "+ size — размер вектора,\n",
    "+ window — размер окна наблюдения,\n",
    "+ min_count — мин. частотность слова в корпусе,\n",
    "+ sg — используемый алгоритм обучения (0 — CBOW, 1 — Skip-gram),\n",
    "+ sample — порог для downsampling'a высокочастотных слов,\n",
    "+ workers — количество потоков,\n",
    "+ alpha — learning rate,\n",
    "+ iter — количество итераций,\n",
    "+ max_vocab_size — позволяет выставить ограничение по памяти при создании словаря (т.е. если ограничение привышается, то низкочастотные слова будут выбрасываться). Для сравнения: 10 млн слов = 1Гб RAM."
   ]
  },
  {
   "cell_type": "code",
   "execution_count": 4,
   "metadata": {},
   "outputs": [
    {
     "name": "stderr",
     "output_type": "stream",
     "text": [
      "2020-04-22 16:03:06,074 : INFO : collecting all words and their counts\n",
      "2020-04-22 16:03:06,078 : INFO : PROGRESS: at sentence #0, processed 0 words, keeping 0 word types\n",
      "2020-04-22 16:03:06,081 : INFO : collected 1213 word types from a corpus of 3109 raw words and 392 sentences\n",
      "2020-04-22 16:03:06,082 : INFO : Loading a fresh vocabulary\n",
      "2020-04-22 16:03:06,084 : INFO : effective_min_count=2 retains 478 unique words (39% of original 1213, drops 735)\n",
      "2020-04-22 16:03:06,084 : INFO : effective_min_count=2 leaves 2374 word corpus (76% of original 3109, drops 735)\n",
      "2020-04-22 16:03:06,086 : INFO : deleting the raw counts dictionary of 1213 items\n",
      "2020-04-22 16:03:06,087 : INFO : sample=0.001 downsamples 83 most-common words\n",
      "2020-04-22 16:03:06,088 : INFO : downsampling leaves estimated 1817 word corpus (76.6% of prior 2374)\n",
      "2020-04-22 16:03:06,090 : INFO : estimated required memory for 478 words and 300 dimensions: 1386200 bytes\n",
      "2020-04-22 16:03:06,091 : INFO : resetting layer weights\n",
      "2020-04-22 16:03:06,102 : INFO : training model with 3 workers on 478 vocabulary and 300 features, using sg=0 hs=0 sample=0.001 negative=5 window=5\n",
      "2020-04-22 16:03:06,108 : INFO : worker thread finished; awaiting finish of 2 more threads\n",
      "2020-04-22 16:03:06,109 : INFO : worker thread finished; awaiting finish of 1 more threads\n",
      "2020-04-22 16:03:06,114 : INFO : worker thread finished; awaiting finish of 0 more threads\n",
      "2020-04-22 16:03:06,114 : INFO : EPOCH - 1 : training on 3109 raw words (1778 effective words) took 0.0s, 190748 effective words/s\n",
      "2020-04-22 16:03:06,121 : INFO : worker thread finished; awaiting finish of 2 more threads\n",
      "2020-04-22 16:03:06,122 : INFO : worker thread finished; awaiting finish of 1 more threads\n",
      "2020-04-22 16:03:06,127 : INFO : worker thread finished; awaiting finish of 0 more threads\n",
      "2020-04-22 16:03:06,128 : INFO : EPOCH - 2 : training on 3109 raw words (1828 effective words) took 0.0s, 160299 effective words/s\n",
      "2020-04-22 16:03:06,136 : INFO : worker thread finished; awaiting finish of 2 more threads\n",
      "2020-04-22 16:03:06,136 : INFO : worker thread finished; awaiting finish of 1 more threads\n",
      "2020-04-22 16:03:06,139 : INFO : worker thread finished; awaiting finish of 0 more threads\n",
      "2020-04-22 16:03:06,139 : INFO : EPOCH - 3 : training on 3109 raw words (1794 effective words) took 0.0s, 278792 effective words/s\n",
      "2020-04-22 16:03:06,146 : INFO : worker thread finished; awaiting finish of 2 more threads\n",
      "2020-04-22 16:03:06,147 : INFO : worker thread finished; awaiting finish of 1 more threads\n",
      "2020-04-22 16:03:06,150 : INFO : worker thread finished; awaiting finish of 0 more threads\n",
      "2020-04-22 16:03:06,151 : INFO : EPOCH - 4 : training on 3109 raw words (1808 effective words) took 0.0s, 206742 effective words/s\n",
      "2020-04-22 16:03:06,156 : INFO : worker thread finished; awaiting finish of 2 more threads\n",
      "2020-04-22 16:03:06,157 : INFO : worker thread finished; awaiting finish of 1 more threads\n",
      "2020-04-22 16:03:06,160 : INFO : worker thread finished; awaiting finish of 0 more threads\n",
      "2020-04-22 16:03:06,160 : INFO : EPOCH - 5 : training on 3109 raw words (1828 effective words) took 0.0s, 255743 effective words/s\n",
      "2020-04-22 16:03:06,167 : INFO : worker thread finished; awaiting finish of 2 more threads\n",
      "2020-04-22 16:03:06,167 : INFO : worker thread finished; awaiting finish of 1 more threads\n",
      "2020-04-22 16:03:06,171 : INFO : worker thread finished; awaiting finish of 0 more threads\n",
      "2020-04-22 16:03:06,172 : INFO : EPOCH - 6 : training on 3109 raw words (1800 effective words) took 0.0s, 211944 effective words/s\n",
      "2020-04-22 16:03:06,177 : INFO : worker thread finished; awaiting finish of 2 more threads\n",
      "2020-04-22 16:03:06,178 : INFO : worker thread finished; awaiting finish of 1 more threads\n",
      "2020-04-22 16:03:06,182 : INFO : worker thread finished; awaiting finish of 0 more threads\n",
      "2020-04-22 16:03:06,183 : INFO : EPOCH - 7 : training on 3109 raw words (1811 effective words) took 0.0s, 224553 effective words/s\n",
      "2020-04-22 16:03:06,190 : INFO : worker thread finished; awaiting finish of 2 more threads\n",
      "2020-04-22 16:03:06,192 : INFO : worker thread finished; awaiting finish of 1 more threads\n",
      "2020-04-22 16:03:06,197 : INFO : worker thread finished; awaiting finish of 0 more threads\n",
      "2020-04-22 16:03:06,198 : INFO : EPOCH - 8 : training on 3109 raw words (1817 effective words) took 0.0s, 149505 effective words/s\n",
      "2020-04-22 16:03:06,204 : INFO : worker thread finished; awaiting finish of 2 more threads\n",
      "2020-04-22 16:03:06,205 : INFO : worker thread finished; awaiting finish of 1 more threads\n",
      "2020-04-22 16:03:06,207 : INFO : worker thread finished; awaiting finish of 0 more threads\n",
      "2020-04-22 16:03:06,208 : INFO : EPOCH - 9 : training on 3109 raw words (1811 effective words) took 0.0s, 246214 effective words/s\n",
      "2020-04-22 16:03:06,215 : INFO : worker thread finished; awaiting finish of 2 more threads\n",
      "2020-04-22 16:03:06,215 : INFO : worker thread finished; awaiting finish of 1 more threads\n",
      "2020-04-22 16:03:06,218 : INFO : worker thread finished; awaiting finish of 0 more threads\n",
      "2020-04-22 16:03:06,219 : INFO : EPOCH - 10 : training on 3109 raw words (1788 effective words) took 0.0s, 236096 effective words/s\n",
      "2020-04-22 16:03:06,225 : INFO : worker thread finished; awaiting finish of 2 more threads\n",
      "2020-04-22 16:03:06,228 : INFO : worker thread finished; awaiting finish of 1 more threads\n",
      "2020-04-22 16:03:06,231 : INFO : worker thread finished; awaiting finish of 0 more threads\n",
      "2020-04-22 16:03:06,233 : INFO : EPOCH - 11 : training on 3109 raw words (1806 effective words) took 0.0s, 162152 effective words/s\n",
      "2020-04-22 16:03:06,239 : INFO : worker thread finished; awaiting finish of 2 more threads\n",
      "2020-04-22 16:03:06,240 : INFO : worker thread finished; awaiting finish of 1 more threads\n",
      "2020-04-22 16:03:06,242 : INFO : worker thread finished; awaiting finish of 0 more threads\n",
      "2020-04-22 16:03:06,243 : INFO : EPOCH - 12 : training on 3109 raw words (1791 effective words) took 0.0s, 257294 effective words/s\n",
      "2020-04-22 16:03:06,250 : INFO : worker thread finished; awaiting finish of 2 more threads\n",
      "2020-04-22 16:03:06,251 : INFO : worker thread finished; awaiting finish of 1 more threads\n",
      "2020-04-22 16:03:06,254 : INFO : worker thread finished; awaiting finish of 0 more threads\n",
      "2020-04-22 16:03:06,255 : INFO : EPOCH - 13 : training on 3109 raw words (1829 effective words) took 0.0s, 224010 effective words/s\n",
      "2020-04-22 16:03:06,260 : INFO : worker thread finished; awaiting finish of 2 more threads\n",
      "2020-04-22 16:03:06,263 : INFO : worker thread finished; awaiting finish of 1 more threads\n",
      "2020-04-22 16:03:06,266 : INFO : worker thread finished; awaiting finish of 0 more threads\n",
      "2020-04-22 16:03:06,268 : INFO : EPOCH - 14 : training on 3109 raw words (1802 effective words) took 0.0s, 177570 effective words/s\n",
      "2020-04-22 16:03:06,274 : INFO : worker thread finished; awaiting finish of 2 more threads\n",
      "2020-04-22 16:03:06,274 : INFO : worker thread finished; awaiting finish of 1 more threads\n",
      "2020-04-22 16:03:06,279 : INFO : worker thread finished; awaiting finish of 0 more threads\n",
      "2020-04-22 16:03:06,280 : INFO : EPOCH - 15 : training on 3109 raw words (1817 effective words) took 0.0s, 193019 effective words/s\n",
      "2020-04-22 16:03:06,286 : INFO : worker thread finished; awaiting finish of 2 more threads\n",
      "2020-04-22 16:03:06,287 : INFO : worker thread finished; awaiting finish of 1 more threads\n",
      "2020-04-22 16:03:06,289 : INFO : worker thread finished; awaiting finish of 0 more threads\n",
      "2020-04-22 16:03:06,290 : INFO : EPOCH - 16 : training on 3109 raw words (1781 effective words) took 0.0s, 251387 effective words/s\n",
      "2020-04-22 16:03:06,296 : INFO : worker thread finished; awaiting finish of 2 more threads\n",
      "2020-04-22 16:03:06,296 : INFO : worker thread finished; awaiting finish of 1 more threads\n",
      "2020-04-22 16:03:06,299 : INFO : worker thread finished; awaiting finish of 0 more threads\n",
      "2020-04-22 16:03:06,301 : INFO : EPOCH - 17 : training on 3109 raw words (1793 effective words) took 0.0s, 220205 effective words/s\n",
      "2020-04-22 16:03:06,309 : INFO : worker thread finished; awaiting finish of 2 more threads\n",
      "2020-04-22 16:03:06,310 : INFO : worker thread finished; awaiting finish of 1 more threads\n"
     ]
    },
    {
     "name": "stderr",
     "output_type": "stream",
     "text": [
      "2020-04-22 16:03:06,314 : INFO : worker thread finished; awaiting finish of 0 more threads\n",
      "2020-04-22 16:03:06,315 : INFO : EPOCH - 18 : training on 3109 raw words (1810 effective words) took 0.0s, 210441 effective words/s\n",
      "2020-04-22 16:03:06,321 : INFO : worker thread finished; awaiting finish of 2 more threads\n",
      "2020-04-22 16:03:06,322 : INFO : worker thread finished; awaiting finish of 1 more threads\n",
      "2020-04-22 16:03:06,325 : INFO : worker thread finished; awaiting finish of 0 more threads\n",
      "2020-04-22 16:03:06,326 : INFO : EPOCH - 19 : training on 3109 raw words (1795 effective words) took 0.0s, 201427 effective words/s\n",
      "2020-04-22 16:03:06,332 : INFO : worker thread finished; awaiting finish of 2 more threads\n",
      "2020-04-22 16:03:06,333 : INFO : worker thread finished; awaiting finish of 1 more threads\n",
      "2020-04-22 16:03:06,337 : INFO : worker thread finished; awaiting finish of 0 more threads\n",
      "2020-04-22 16:03:06,337 : INFO : EPOCH - 20 : training on 3109 raw words (1840 effective words) took 0.0s, 219625 effective words/s\n",
      "2020-04-22 16:03:06,338 : INFO : training on a 62180 raw words (36127 effective words) took 0.2s, 153711 effective words/s\n",
      "2020-04-22 16:03:06,339 : WARNING : under 10 jobs per worker: consider setting a smaller `batch_words' for smoother alpha decay\n"
     ]
    },
    {
     "name": "stdout",
     "output_type": "stream",
     "text": [
      "Wall time: 265 ms\n"
     ]
    }
   ],
   "source": [
    "%time model_liza = gensim.models.Word2Vec(data, size=300, window=5, min_count=2, iter=20)"
   ]
  },
  {
   "cell_type": "markdown",
   "metadata": {},
   "source": [
    "Можно нормализовать вектора, тогда модель будет занимать меньше RAM. Однако после этого её нельзя дотренировывать. Здесь используется L2-нормализация: вектора нормализуются так, что если сложить квадраты всех элементов вектора, в сумме получится 1."
   ]
  },
  {
   "cell_type": "code",
   "execution_count": 5,
   "metadata": {},
   "outputs": [
    {
     "name": "stderr",
     "output_type": "stream",
     "text": [
      "2020-04-22 16:03:20,703 : INFO : precomputing L2-norms of word weight vectors\n",
      "2020-04-22 16:03:20,736 : INFO : storing 478x300 projection weights into liza.bin\n"
     ]
    },
    {
     "name": "stdout",
     "output_type": "stream",
     "text": [
      "Saving model...\n"
     ]
    }
   ],
   "source": [
    "model_liza.init_sims(replace=True)\n",
    "model_path = \"liza.bin\"\n",
    "\n",
    "print(\"Saving model...\")\n",
    "model_liza.wv.save_word2vec_format(model_path, binary=True)"
   ]
  },
  {
   "cell_type": "markdown",
   "metadata": {},
   "source": [
    "Смотрим, сколько в модели слов:"
   ]
  },
  {
   "cell_type": "code",
   "execution_count": 6,
   "metadata": {},
   "outputs": [
    {
     "name": "stdout",
     "output_type": "stream",
     "text": [
      "478\n"
     ]
    }
   ],
   "source": [
    "print(len(model_liza.wv.vocab))"
   ]
  },
  {
   "cell_type": "code",
   "execution_count": 7,
   "metadata": {},
   "outputs": [
    {
     "name": "stdout",
     "output_type": "stream",
     "text": [
      "['анюта', 'армия', 'ах', 'барин', 'бедный', 'белый', 'берег', 'березовый', 'беречь', 'бесчисленный', 'благодарить', 'бледный', 'блеснуть', 'блестящий', 'близ', 'бог', 'богатый', 'большой', 'бояться', 'брать', 'бросать', 'бросаться', 'бывать', 'быть', 'важный', 'ввечеру', 'вдова', 'велеть', 'великий', 'великолепный', 'верить', 'верно', 'весело', 'веселый', 'весна', 'вести', 'весь', 'весьма', 'ветвь', 'ветер', 'вечер', 'взглядывать', 'вздох', 'вздыхать', 'взор', 'взять', 'вид', 'видеть', 'видеться', 'видный', 'вместе', 'вода', 'возвращаться', 'воздух', 'война', 'воображать', 'воображение', 'воспоминание', 'восторг', 'восхищаться', 'время', 'все', 'вслед', 'вставать', 'встречаться', 'всякий', 'высокий', 'выть', 'выходить', 'глаз', 'глубокий', 'гнать', 'говорить', 'год', 'голос', 'гора', 'горе', 'горестный', 'горлица', 'город', 'горький', 'господь', 'гром', 'грусть', 'давать', 'давно', 'далее', 'дверь', 'движение', 'двор', 'девушка', 'дело', 'день', 'деньги', 'деревня', 'деревянный', 'десять', 'добро', 'добрый', 'довольно', 'доживать', 'долго', 'должный', 'дом', 'домой', 'дочь', 'древний', 'друг', 'другой', 'дуб', 'думать', 'душа', 'едва', 'ехать', 'жалобный', 'желание', 'желать', 'жениться', 'жених', 'женщина', 'жестокий', 'живой', 'жизнь', 'жить', 'забава', 'заблуждение', 'забывать', 'завтра', 'задумчивость', 'закраснеться', 'закричать', 'заря', 'здешний', 'здравствовать', 'зеленый', 'земля', 'златой', 'знать', 'ибо', 'играть', 'идти', 'имя', 'искать', 'исполняться', 'испугаться', 'история', 'исчезать', 'кабинет', 'казаться', 'какой', 'капля', 'карета', 'карман', 'картина', 'катиться', 'келья', 'клятва', 'колено', 'копейка', 'который', 'красота', 'крест', 'крестьянин', 'крестьянка', 'кровь', 'кроме', 'кто', 'купить', 'ландыш', 'ласка', 'ласковый', 'левый', 'лес', 'лететь', 'летний', 'лето', 'лиза', 'лизин', 'лизина', 'лицо', 'лишний', 'лодка', 'ложиться', 'луг', 'луч', 'любезный', 'любить', 'любовь', 'лютый', 'матушка', 'мать', 'место', 'месяц', 'мечта', 'милый', 'мимо', 'минута', 'многочисленный', 'могила', 'мой', 'молить', 'молиться', 'молния', 'молодой', 'молодость', 'молчать', 'монастырь', 'море', 'москва', 'москва-река', 'мочь', 'мрак', 'мрачный', 'муж', 'мы', 'мысль', 'наглядеться', 'надеяться', 'надлежать', 'надобно', 'называть', 'наступать', 'натура', 'находить', 'наш', 'небесный', 'небо', 'невинность', 'невинный', 'неделя', 'нежели', 'нежный', 'незнакомец', 'некоторый', 'непорочность', 'неприятель', 'несколько', 'никакой', 'никто', 'новый', 'ночь', 'обижать', 'облако', 'обманывать', 'обморок', 'образ', 'обращаться', 'обстоятельство', 'объятие', 'огонь', 'один', 'однако', 'окно', 'окрестности', 'он', 'она', 'они', 'оно', 'опираться', 'описывать', 'опустеть', 'освещать', 'оставаться', 'оставлять', 'останавливать', 'останавливаться', 'отвечать', 'отдавать', 'отец', 'отечество', 'отменно', 'отрада', 'очень', 'падать', 'память', 'пастух', 'первый', 'перемениться', 'переставать', 'песня', 'петь', 'печальный', 'писать', 'питать', 'плакать', 'побежать', 'побледнеть', 'погибать', 'подавать', 'подгорюниваться', 'подле', 'подозревать', 'подымать', 'поехать', 'пойти', 'показываться', 'поклониться', 'покойный', 'покрывать', 'покрываться', 'покупать', 'полагать', 'поле', 'помнить', 'поселянин', 'последний', 'постой', 'потуплять', 'поцеловать', 'поцелуй', 'правый', 'представляться', 'прежде', 'преклонять', 'прекрасный', 'прелестный', 'приводить', 'прижимать', 'принадлежать', 'принуждать', 'природа', 'приходить', 'приятно', 'приятный', 'провожать', 'продавать', 'проливать', 'простой', 'просыпаться', 'проходить', 'проч', 'прощать', 'прощаться', 'пруд', 'птичка', 'пылать', 'пять', 'работа', 'работать', 'радость', 'рассказывать', 'расставаться', 'рвать', 'ребенок', 'река', 'решаться', 'робкий', 'роза', 'розовый', 'роман', 'российский', 'роща', 'рубль', 'рука', 'сам', 'самый', 'свет', 'светиться', 'светлый', 'свидание', 'свирель', 'свободно', 'свое', 'свой', 'свойство', 'сделать', 'сделаться', 'сей', 'сердечный', 'сердце', 'сидеть', 'сие', 'сиять', 'сказать', 'сказывать', 'сквозь', 'скорбь', 'скоро', 'скрываться', 'слабый', 'слеза', 'слезать', 'слово', 'случаться', 'слушать', 'слышать', 'смерть', 'сметь', 'смотреть', 'собственный', 'соглашаться', 'солнце', 'спасать', 'спокойно', 'спокойствие', 'спрашивать', 'стадо', 'становиться', 'стараться', 'старуха', 'старушка', 'старый', 'статься', 'стена', 'сто', 'столь', 'стон', 'стонать', 'сторона', 'стоять', 'страшно', 'страшный', 'судьба', 'схватывать', 'счастие', 'счастливый', 'сын', 'таить', 'такой', 'твой', 'темный', 'тения', 'тихий', 'тихонько', 'томный', 'тот', 'трава', 'трепетать', 'трогать', 'ты', 'убивать', 'уверять', 'увидеть', 'увидеться', 'удерживать', 'удивляться', 'удовольствие', 'узнавать', 'улица', 'улыбка', 'уметь', 'умирать', 'унылый', 'упасть', 'услышать', 'утешение', 'утро', 'хижина', 'хлеб', 'ходить', 'холм', 'хороший', 'хотеть', 'хотеться', 'хотя', 'худо', 'худой', 'царь', 'цветок', 'целовать', 'час', 'часто', 'человек', 'чистый', 'читатель', 'чувствительный', 'чувство', 'чувствовать', 'чулок', 'шестой', 'шум', 'шуметь', 'щадить', 'щека', 'эраст', 'эрастов', 'это', 'я']\n"
     ]
    }
   ],
   "source": [
    "print(sorted([w for w in model_liza.wv.vocab]))"
   ]
  },
  {
   "cell_type": "markdown",
   "metadata": {},
   "source": [
    "И чему же мы ее научили? Попробуем оценить модель вручную, порешав примеры. Несколько дано ниже, попробуйте придумать свои."
   ]
  },
  {
   "cell_type": "code",
   "execution_count": 8,
   "metadata": {},
   "outputs": [
    {
     "data": {
      "text/plain": [
       "[('который', 0.991159975528717)]"
      ]
     },
     "execution_count": 8,
     "metadata": {},
     "output_type": "execute_result"
    }
   ],
   "source": [
    "model_liza.wv.most_similar(positive=[\"смерть\", \"любовь\"], negative=[\"печальный\"], topn=1)"
   ]
  },
  {
   "cell_type": "code",
   "execution_count": 9,
   "metadata": {},
   "outputs": [
    {
     "data": {
      "text/plain": [
       "[('свой', 0.9978910088539124),\n",
       " ('лиза', 0.997712254524231),\n",
       " ('который', 0.9976661801338196)]"
      ]
     },
     "execution_count": 9,
     "metadata": {},
     "output_type": "execute_result"
    }
   ],
   "source": [
    "model_liza.wv.most_similar(\"любовь\", topn=3)"
   ]
  },
  {
   "cell_type": "code",
   "execution_count": 10,
   "metadata": {},
   "outputs": [
    {
     "data": {
      "text/plain": [
       "0.9976062"
      ]
     },
     "execution_count": 10,
     "metadata": {},
     "output_type": "execute_result"
    }
   ],
   "source": [
    "model_liza.wv.similarity(\"лиза\", \"эраст\")"
   ]
  },
  {
   "cell_type": "code",
   "execution_count": 11,
   "metadata": {},
   "outputs": [
    {
     "data": {
      "text/plain": [
       "1.0"
      ]
     },
     "execution_count": 11,
     "metadata": {},
     "output_type": "execute_result"
    }
   ],
   "source": [
    "model_liza.wv.similarity(\"лиза\", \"лиза\")"
   ]
  },
  {
   "cell_type": "code",
   "execution_count": 12,
   "metadata": {},
   "outputs": [
    {
     "data": {
      "text/plain": [
       "'улыбка'"
      ]
     },
     "execution_count": 12,
     "metadata": {},
     "output_type": "execute_result"
    }
   ],
   "source": [
    "model_liza.wv.doesnt_match(\"скорбь грусть слеза улыбка\".split())"
   ]
  },
  {
   "cell_type": "code",
   "execution_count": 13,
   "metadata": {},
   "outputs": [
    {
     "data": {
      "text/plain": [
       "['свой',\n",
       " 'который',\n",
       " 'мочь',\n",
       " 'сказать',\n",
       " 'сей',\n",
       " 'хотеть',\n",
       " 'один',\n",
       " 'смотреть',\n",
       " 'любовь']"
      ]
     },
     "execution_count": 13,
     "metadata": {},
     "output_type": "execute_result"
    }
   ],
   "source": [
    "model_liza.wv.words_closer_than(\"лиза\", \"эраст\")"
   ]
  },
  {
   "cell_type": "markdown",
   "metadata": {},
   "source": [
    "#### Параметры варьирования\n",
    "\n",
    "1) препроцессинг -- лемматизировать или нет\n",
    "\n",
    "2) размер корпуса -- чем больше, тем лучше, но! не для семантических задач -- для них важнее качество\n",
    "\n",
    "3) размер словаря\n",
    "\n",
    "4) negative samples\n",
    "\n",
    "5) количество итераций\n",
    "\n",
    "6) длина вектора -- 100-300 (судя по всему, >300 не сильно улучшает результаты)\n",
    "\n",
    "7) длина окна -- для синтаксических задач, примерно 4, для семантических задач, большое окно, 8, 10.\n",
    "\n",
    "Хорошая статья про сравнение моделей с варьированием параметров: https://www.aclweb.org/anthology/D14-1162.pdf\n",
    "\n",
    "#### Как использовать готовую модель\n",
    "\n",
    "#### RusVectōrēs\n",
    "\n",
    "На сайте RusVectōrēs (https://rusvectores.org/ru/) собраны предобученные на различных данных модели для русского языка, а также можно поискать наиболее близкие слова к заданному, посчитать семантическую близость нескольких слов и порешать примеры с помощью «калькулятором семантической близости».\n",
    "\n",
    "Для других языков также можно найти предобученные модели — например, модели [fastText](https://fasttext.cc/docs/en/english-vectors.html) и [GloVe](https://nlp.stanford.edu/projects/glove/)\n",
    "\n",
    "Ещё давайте посмотрим на векторные романы https://nevmenandr.github.io/novel2vec/"
   ]
  },
  {
   "cell_type": "markdown",
   "metadata": {},
   "source": [
    "#### Работа с моделью\n",
    "\n",
    "Модели word2vec бывают разных форматов:\n",
    "\n",
    "+ .vec.gz — обычный файл\n",
    "+ .bin.gz — бинарник\n",
    "\n",
    "Загружаются они с помощью одного и того же гласса `KeyedVectors`, меняется только параметр `binary` у функции `load_word2vec_format`.\n",
    "\n",
    "Если же эмбеддинги обучены не с помощью word2vec, то для загрузки нужно использовать функцию `load`. Т.е. для загрузки предобученных эмбеддингов `glove`, `fasttext`, `bpe` и любых других нужна именно она.\n",
    "\n",
    "Скачаем с RusVectōrēs модель для русского языка, обученную на НКРЯ образца 2015 г."
   ]
  },
  {
   "cell_type": "code",
   "execution_count": 3,
   "metadata": {},
   "outputs": [
    {
     "data": {
      "text/plain": [
       "('ruscorpora_mystem_cbow_300_2_2015.bin.gz',\n",
       " <http.client.HTTPMessage at 0xb9d3128>)"
      ]
     },
     "execution_count": 3,
     "metadata": {},
     "output_type": "execute_result"
    }
   ],
   "source": [
    "#urllib.request.urlretrieve(\"http://rusvectores.org/static/models/rusvectores2/ruscorpora_mystem_cbow_300_2_2015.bin.gz\", \"ruscorpora_mystem_cbow_300_2_2015.bin.gz\")"
   ]
  },
  {
   "cell_type": "code",
   "execution_count": 17,
   "metadata": {},
   "outputs": [
    {
     "name": "stderr",
     "output_type": "stream",
     "text": [
      "2020-04-22 16:13:55,697 : INFO : loading projection weights from ruscorpora_mystem_cbow_300_2_2015.bin.gz\n",
      "2020-04-22 16:14:04,943 : INFO : loaded (281776, 300) matrix from ruscorpora_mystem_cbow_300_2_2015.bin.gz\n"
     ]
    }
   ],
   "source": [
    "m = 'ruscorpora_mystem_cbow_300_2_2015.bin.gz'\n",
    "\n",
    "if m.endswith('.vec.gz'):\n",
    "    model = gensim.models.KeyedVectors.load_word2vec_format(m, binary=False)\n",
    "elif m.endswith('.bin.gz'):\n",
    "    model = gensim.models.KeyedVectors.load_word2vec_format(m, binary=True)\n",
    "else:\n",
    "    model = gensim.models.KeyedVectors.load(m)"
   ]
  },
  {
   "cell_type": "code",
   "execution_count": 16,
   "metadata": {},
   "outputs": [
    {
     "name": "stderr",
     "output_type": "stream",
     "text": [
      "2020-04-22 16:13:47,661 : INFO : loading projection weights from tayga_upos_skipgram_300_2_2019.bin\n",
      "2020-04-22 16:13:52,329 : INFO : loaded (249565, 300) matrix from tayga_upos_skipgram_300_2_2019.bin\n"
     ]
    }
   ],
   "source": [
    "m2 = 'tayga_upos_skipgram_300_2_2019.bin'\n",
    "model2 = gensim.models.KeyedVectors.load_word2vec_format(m, binary=True)"
   ]
  },
  {
   "cell_type": "code",
   "execution_count": 18,
   "metadata": {},
   "outputs": [],
   "source": [
    "words = ['хороший_A', 'плохой_A', 'ужасный_A','жуткий_A', 'страшный_A', 'красный_A', 'синий_A']"
   ]
  },
  {
   "cell_type": "code",
   "execution_count": 31,
   "metadata": {},
   "outputs": [],
   "source": [
    "words2 = ['хороший_ADJ', 'плохой_ADJ', 'ужасный_ADJ','жуткий_ADJ', 'страшный_ADJ', 'красный_ADJ', 'синий_ADJ']"
   ]
  },
  {
   "cell_type": "markdown",
   "metadata": {},
   "source": [
    "Частеречные тэги нужны, поскольку это специфика скачанной модели - она была натренирована на словах, аннотированных их частями речи (и лемматизированных). NB! В названиях моделей на `rusvectores` указано, какой тегсет они используют (mystem, upos и т.д.)\n",
    "\n",
    "Попросим у модели 10 ближайших соседей для каждого слова и коэффициент косинусной близости для каждого:\n"
   ]
  },
  {
   "cell_type": "code",
   "execution_count": null,
   "metadata": {},
   "outputs": [],
   "source": [
    "for word in words:\n",
    "    # есть ли слово в модели? \n",
    "    if word in model:\n",
    "        print(word)\n",
    "        # смотрим на вектор слова (его размерность 300, смотрим на первые 10 чисел)\n",
    "        print(model[word][:10])\n",
    "        # выдаем 10 ближайших соседей слова:\n",
    "        for i in model.most_similar(positive=[word], topn=10):\n",
    "            # слово + коэффициент косинусной близости\n",
    "            print(i[0], i[1])\n",
    "        print('\\n')\n",
    "    else:\n",
    "        # Увы!\n",
    "        print('Увы, слова \"%s\" нет в модели!' % word)"
   ]
  },
  {
   "cell_type": "markdown",
   "metadata": {},
   "source": [
    "(в качестве эксперемента сравним результаты двух моделей)"
   ]
  },
  {
   "cell_type": "code",
   "execution_count": 36,
   "metadata": {
    "scrolled": true
   },
   "outputs": [
    {
     "name": "stdout",
     "output_type": "stream",
     "text": [
      "хороший\n",
      "плохой_A\t\t0.7463521361351013\tvs\tхо-роший_ADJ\t0.7090424299240112\n",
      "неплохой_A\t\t0.6708559989929199\tvs\tплохой_ADJ\t0.7054268717765808\n",
      "отличный_A\t\t0.663343608379364\tvs\tхороший_ADV\t0.6968570947647095\n",
      "превосходный_A\t\t0.6079519391059875\tvs\tнеплохой_ADJ\t0.6804025769233704\n",
      "замечательный_A\t\t0.586450457572937\tvs\tотличный_ADJ\t0.6720600128173828\n",
      "\n",
      "\n",
      "плохой\n",
      "хороший_A\t\t0.7463521361351013\tvs\tплохой_NOUN\t0.7729244828224182\n",
      "дурной_A\t\t0.6186875104904175\tvs\tплохой_ADV\t0.7225555181503296\n",
      "скверный_A\t\t0.6014161705970764\tvs\tхороший_ADJ\t0.7054268717765808\n",
      "отличный_A\t\t0.5226833820343018\tvs\tплохо_ADJ\t0.6851682662963867\n",
      "посредственный_A\t\t0.5061031579971313\tvs\tпло-хой_ADJ\t0.6603251695632935\n",
      "\n",
      "\n",
      "ужасный\n",
      "страшный_A\t\t0.8007251024246216\tvs\tжуткий_ADJ\t0.8272484540939331\n",
      "жуткий_A\t\t0.6982529163360596\tvs\tстрашный_ADJ\t0.7970277070999146\n",
      "отвратительный_A\t\t0.6798903942108154\tvs\tужаснейший_ADJ\t0.7662500739097595\n",
      "ужасающий_A\t\t0.6174500584602356\tvs\tкошмарный_ADJ\t0.7639416456222534\n",
      "чудовищный_A\t\t0.6100856065750122\tvs\tужасающий_VERB\t0.7564429044723511\n",
      "\n",
      "\n",
      "жуткий\n",
      "ужасный_A\t\t0.6982529163360596\tvs\tужасный_ADJ\t0.8272484540939331\n",
      "страшный_A\t\t0.6917036771774292\tvs\tстрашный_ADJ\t0.779840886592865\n",
      "зловещий_A\t\t0.649010181427002\tvs\tкошмарный_ADJ\t0.768648624420166\n",
      "странный_A\t\t0.6009964346885681\tvs\tужасающий_VERB\t0.7596340179443359\n",
      "отвратительный_A\t\t0.5856714248657227\tvs\tужасающий_ADJ\t0.7143490314483643\n",
      "\n",
      "\n",
      "страшный\n",
      "ужасный_A\t\t0.8007251024246216\tvs\tужасный_ADJ\t0.7970278263092041\n",
      "жуткий_A\t\t0.6917036771774292\tvs\tжуткий_ADJ\t0.7798409461975098\n",
      "чудовищный_A\t\t0.5934231877326965\tvs\tстраш-ный_ADJ\t0.7234997749328613\n",
      "кошмарный_A\t\t0.5395629405975342\tvs\tужасающий_VERB\t0.6493229269981384\n",
      "отвратительный_A\t\t0.5351147651672363\tvs\tкошмарный_ADJ\t0.6392936706542969\n",
      "\n",
      "\n",
      "красный\n",
      "алый_A\t\t0.6421286463737488\tvs\tкрас-ный_ADJ\t0.7583869695663452\n",
      "малиновый_A\t\t0.6113021373748779\tvs\tярко-красный_ADJ\t0.6965056657791138\n",
      "красная_S\t\t0.5526680946350098\tvs\t-красный_ADJ\t0.687946617603302\n",
      "желтый_A\t\t0.5431625843048096\tvs\t,красный_ADJ\t0.6845678091049194\n",
      "оранжевый_A\t\t0.5371882319450378\tvs\tбордовый_ADJ\t0.6798431873321533\n",
      "\n",
      "\n",
      "синий\n",
      "голубой_A\t\t0.855513334274292\tvs\tфиолетовый_ADJ\t0.8431901335716248\n",
      "темно-синий_A\t\t0.7498061656951904\tvs\t-синий_ADJ\t0.8430948853492737\n",
      "оранжевый_A\t\t0.7341034412384033\tvs\tголубой_ADJ\t0.8425647020339966\n",
      "лиловый_A\t\t0.7314398288726807\tvs\tярко-синий_ADJ\t0.8328381776809692\n",
      "фиолетовый_A\t\t0.7291390895843506\tvs\tсиний_NOUN\t0.8145992159843445\n",
      "\n",
      "\n"
     ]
    }
   ],
   "source": [
    "for word in zip(words, words2):\n",
    "    # есть ли слово в модели? \n",
    "    if word[0] in model and word[1] in model2:\n",
    "        print(word[0].split('_')[0])\n",
    "        # смотрим на вектор слова (его размерность 300, смотрим на первые 10 чисел)\n",
    "        #print(model[word][:10])\n",
    "        # выдаем 10 ближайших соседей слова:\n",
    "        mod1 = model.most_similar(positive=[word[0]], topn=5)\n",
    "        mod2 = model2.most_similar(positive=[word[1]], topn=5)\n",
    "        for i, ii in zip(mod1, mod2):\n",
    "            # слово + коэффициент косинусной близости\n",
    "            print(f'{i[0]}\\t\\t{i[1]}\\tvs\\t{ii[0]}\\t{ii[1]}')\n",
    "        print('\\n')\n",
    "    else:\n",
    "        # Увы!\n",
    "        print('Увы, слова \"%s\" нет в одной из моделей!' % word)"
   ]
  },
  {
   "cell_type": "markdown",
   "metadata": {},
   "source": [
    "Находим косинусную близость пары слов:"
   ]
  },
  {
   "cell_type": "code",
   "execution_count": 37,
   "metadata": {},
   "outputs": [
    {
     "name": "stdout",
     "output_type": "stream",
     "text": [
      "0.7463521\n",
      "0.70542693\n"
     ]
    }
   ],
   "source": [
    "print(model.similarity('плохой_A', 'хороший_A'))\n",
    "print(model2.similarity('плохой_ADJ', 'хороший_ADJ'))"
   ]
  },
  {
   "cell_type": "code",
   "execution_count": 39,
   "metadata": {},
   "outputs": [
    {
     "name": "stdout",
     "output_type": "stream",
     "text": [
      "-0.12778337\n",
      "0.037360884\n"
     ]
    }
   ],
   "source": [
    "print(model.similarity('плохой_A', 'синий_A'))\n",
    "print(model2.similarity('плохой_ADJ', 'синий_ADJ'))"
   ]
  },
  {
   "cell_type": "code",
   "execution_count": 40,
   "metadata": {},
   "outputs": [
    {
     "name": "stdout",
     "output_type": "stream",
     "text": [
      "0.69825286\n",
      "0.82724845\n"
     ]
    }
   ],
   "source": [
    "print(model.similarity('ужасный_A', 'жуткий_A'))\n",
    "print(model2.similarity('ужасный_ADJ', 'жуткий_ADJ'))"
   ]
  },
  {
   "cell_type": "markdown",
   "metadata": {},
   "source": [
    "Пропорция\n",
    "\n",
    "+ positive — вектора, которые мы складываем\n",
    "+ negative — вектора, которые вычитаем"
   ]
  },
  {
   "cell_type": "code",
   "execution_count": 41,
   "metadata": {},
   "outputs": [
    {
     "name": "stdout",
     "output_type": "stream",
     "text": [
      "страшный_A\n",
      "жуткий_ADJ\n"
     ]
    }
   ],
   "source": [
    "print(model.most_similar(positive=['плохой_A', 'ужасный_A'], negative=['хороший_A'])[0][0])\n",
    "print(model2.most_similar(positive=['плохой_ADJ', 'ужасный_ADJ'], negative=['хороший_ADJ'])[0][0])"
   ]
  },
  {
   "cell_type": "markdown",
   "metadata": {},
   "source": [
    "Найди лишнее!"
   ]
  },
  {
   "cell_type": "code",
   "execution_count": 42,
   "metadata": {},
   "outputs": [
    {
     "name": "stdout",
     "output_type": "stream",
     "text": [
      "хороший_A\n",
      "хороший_ADJ\n"
     ]
    }
   ],
   "source": [
    "print(model.doesnt_match('плохой_A хороший_A ужасный_A страшный_A'.split()))\n",
    "print(model2.doesnt_match('плохой_ADJ хороший_ADJ ужасный_ADJ страшный_ADJ'.split()))"
   ]
  },
  {
   "cell_type": "markdown",
   "metadata": {},
   "source": [
    "Проверим идею из компонентного анализа о том, что `ужасно - плохой = степень`"
   ]
  },
  {
   "cell_type": "code",
   "execution_count": 11,
   "metadata": {},
   "outputs": [
    {
     "name": "stdout",
     "output_type": "stream",
     "text": [
      "0.5575\tбезумно_ADV\n",
      "0.4791\tбезмерно_ADV\n",
      "0.4536\tжутко_ADV\n",
      "0.4472\tневероятно_ADV\n",
      "0.4394\tочень_ADV\n",
      "0.4364\tчертовски_ADV\n",
      "0.4231\tстрашно_ADV\n",
      "0.4124\tнеобычайно_ADV\n",
      "0.4119\tнестерпимо_ADV\n",
      "0.4005\tнеобыкновенно_ADV\n"
     ]
    }
   ],
   "source": [
    "for word, score in model.most_similar(positive=['ужасно_ADV'], negative=['плохой_A']):\n",
    "    print(f'{score:.4}\\t{word}')"
   ]
  },
  {
   "cell_type": "code",
   "execution_count": 43,
   "metadata": {},
   "outputs": [
    {
     "name": "stdout",
     "output_type": "stream",
     "text": [
      "0.573\tжутко_ADV\n",
      "0.5351\tжуткий_ADV\n",
      "0.5218\tбезумно_ADV\n",
      "0.5154\tнеимоверно_ADV\n",
      "0.4988\tстрашно_ADV\n",
      "0.485\tневероятно_ADV\n",
      "0.4714\tжутко_NOUN\n",
      "0.4307\tадски_ADV\n",
      "0.4301\tнестерпимо_ADV\n",
      "0.4228\tжутко_ADJ\n"
     ]
    }
   ],
   "source": [
    "for word, score in model2.most_similar(positive=['ужасно_ADV'], negative=['плохой_ADJ']):\n",
    "    print(f'{score:.4}\\t{word}')"
   ]
  },
  {
   "cell_type": "markdown",
   "metadata": {},
   "source": [
    "Работает!"
   ]
  },
  {
   "cell_type": "markdown",
   "metadata": {},
   "source": [
    "#### Оценка\n",
    "\n",
    "Это, конечно, хорошо, но как понять, какая модель лучше? Или вот, например, я сделал свою модель, а как понять, насколько она хорошая?\n",
    "\n",
    "Для этого существуют специальные датасеты для оценки качества дистрибутивных моделей. Основных два: один измеряет точность решения задач на аналогии (про Россию и пельмени), а второй используется для оценки коэффициента семантической близости.\n",
    "\n",
    "#### Word Similarity\n",
    "\n",
    "Этот метод заключается в том, чтобы оценить, насколько представления о семантической близости слов в модели соотносятся с \\\"представлениями\\\" людей.\n",
    "\n",
    "| слово 1    | слово 2    | близость |\n",
    "|------------|------------|----------|\n",
    "| кошка      | собака     | 0.7      | \n",
    "| чашка      | кружка     | 0.9      | \n",
    "\n",
    "Для каждой пары слов из заранее заданного датасета мы можем посчитать косинусное расстояние, и получить список таких значений близости. При этом у нас уже есть список значений близостей, сделанный людьми. Мы можем сравнить эти два списка и понять, насколько они похожи (например, посчитав корреляцию). Эта мера схожести должна говорить о том, насколько модель хорошо моделирует расстояния о слова.\n",
    "\n",
    "#### Аналогии\n",
    "\n",
    "Другая популярная задача для \"внутренней\" оценки называется задачей поиска аналогий. Как мы уже разбирали выше, с помощью простых арифметических операций мы можем модифицировать значение слова. Если заранее собрать набор слов-модификаторов, а также слов, которые мы хотим получить в результаты модификации, то на основе подсчёта количества \"попаданий\" в желаемое слово мы можем оценить, насколько хорошо работает модель.\n",
    "\n",
    "В качестве слов-модификатор мы можем использовать семантические аналогии. Скажем, если у нас есть некоторое отношение \"страна-столица\", то для оценки модели мы можем использовать пары наподобие \"Россия-Москва\", \"Норвегия-Осло\", и т.д. Датасет будет выглядеть следующм образом:\n",
    "\n",
    "| слово 1    | слово 2    | отношение     | \n",
    "|------------|------------|---------------|\n",
    "| Россия     | Москва     | страна-столица| \n",
    "| Норвегия   | Осло       | страна-столица|\n",
    "\n",
    "Рассматривая случайные две пары из этого набора, мы хотим, имея триплет (Россия, Москва, Норвегия) хотим получить слово \"Осло\", т.е. найти такое слово, которое будет находиться в том же отношении со словом \"Норвегия\", как \"Россия\" находится с Москвой.\n",
    "\n",
    "Датасеты для русского языка можно скачать на странице с моделями на RusVectores. Посчитаем качество нашей модели НКРЯ на датасете про аналогии:"
   ]
  },
  {
   "cell_type": "code",
   "execution_count": 45,
   "metadata": {},
   "outputs": [
    {
     "name": "stderr",
     "output_type": "stream",
     "text": [
      "2020-04-22 16:32:06,071 : INFO : capital-common-countries: 19.0% (58/306)\n",
      "2020-04-22 16:32:08,176 : INFO : capital-world: 10.1% (52/515)\n",
      "2020-04-22 16:32:08,722 : INFO : currency: 4.6% (6/130)\n",
      "2020-04-22 16:32:09,987 : INFO : family: 71.2% (218/306)\n",
      "2020-04-22 16:32:13,262 : INFO : gram1-Aective-to-adverb: 18.7% (152/812)\n",
      "2020-04-22 16:32:14,806 : INFO : gram2-opposite: 32.1% (122/380)\n",
      "2020-04-22 16:32:18,483 : INFO : gram6-nationality-Aective: 32.3% (293/907)\n",
      "2020-04-22 16:32:18,484 : INFO : total: 26.8% (901/3356)\n"
     ]
    }
   ],
   "source": [
    "res = model.accuracy('ru_analogy_tagged.txt')"
   ]
  },
  {
   "cell_type": "markdown",
   "metadata": {},
   "source": [
    "Результат устроен так:\n",
    "```\n",
    "[{'section': 'capital-common-countries', 'correct': [], 'incorrect': []},\n",
    " {'section': 'capital-world', 'correct': [], 'incorrect': []},\n",
    " {'section': 'currency', 'correct': [], 'incorrect': []},\n",
    " {'section': 'city-in-state', 'correct': [], 'incorrect': []},\n",
    " {'section': 'family', 'correct': [], 'incorrect': []},\n",
    " {'section': 'gram1-Aective-to-adverb', 'correct': [], 'incorrect': []},\n",
    " {'section': 'gram2-opposite', 'correct': [], 'incorrect': []},\n",
    " {'section': 'gram6-nationality-Aective', 'correct': [], 'incorrect': []},\n",
    " {'section': 'total', 'correct': [], 'incorrect': []}]\n",
    " ```\n",
    " \n",
    " Посмотрим на раздел `family`"
   ]
  },
  {
   "cell_type": "code",
   "execution_count": 46,
   "metadata": {},
   "outputs": [
    {
     "name": "stdout",
     "output_type": "stream",
     "text": [
      "МАЛЬЧИК_S\tДЕВОЧКА_S\tДЕД_S\tБАБКА_S\n",
      "МАЛЬЧИК_S\tДЕВОЧКА_S\tКОРОЛЬ_S\tКОРОЛЕВА_S\n",
      "МАЛЬЧИК_S\tДЕВОЧКА_S\tПРИНЦ_S\tПРИНЦЕССА_S\n",
      "МАЛЬЧИК_S\tДЕВОЧКА_S\tОТЧИМ_S\tМАЧЕХА_S\n",
      "МАЛЬЧИК_S\tДЕВОЧКА_S\tПАСЫНОК_S\tПАДЧЕРИЦА_S\n",
      "БРАТ_S\tСЕСТРА_S\tДЕД_S\tБАБКА_S\n",
      "БРАТ_S\tСЕСТРА_S\tОТЧИМ_S\tМАЧЕХА_S\n",
      "БРАТ_S\tСЕСТРА_S\tПАСЫНОК_S\tПАДЧЕРИЦА_S\n",
      "ПАПА_S\tМАМА_S\tДЕД_S\tБАБКА_S\n",
      "ПАПА_S\tМАМА_S\tОТЧИМ_S\tМАЧЕХА_S\n"
     ]
    }
   ],
   "source": [
    "for row in res[4]['incorrect'][:10]:\n",
    "    print('\\t'.join(row))"
   ]
  },
  {
   "cell_type": "code",
   "execution_count": 52,
   "metadata": {},
   "outputs": [
    {
     "name": "stderr",
     "output_type": "stream",
     "text": [
      "2020-04-22 16:37:30,061 : INFO : currency: 100.0% (6/6)\n",
      "2020-04-22 16:37:31,198 : INFO : family: 83.1% (226/272)\n",
      "2020-04-22 16:37:32,552 : INFO : gram2-opposite: 45.6% (156/342)\n",
      "2020-04-22 16:37:32,572 : INFO : gram6-nationality-Aective: 0.0% (0/2)\n",
      "2020-04-22 16:37:32,573 : INFO : total: 62.4% (388/622)\n"
     ]
    }
   ],
   "source": [
    "res2 = model2.accuracy('ru_analogy_tagged_upos.txt')"
   ]
  },
  {
   "cell_type": "code",
   "execution_count": 53,
   "metadata": {},
   "outputs": [
    {
     "name": "stdout",
     "output_type": "stream",
     "text": [
      "МАЛЬЧИК_NOUN\tДЕВОЧКА_NOUN\tДЕД_NOUN\tБАБКА_NOUN\n",
      "МАЛЬЧИК_NOUN\tДЕВОЧКА_NOUN\tОТЧИМ_NOUN\tМАЧЕХА_NOUN\n",
      "БРАТ_NOUN\tСЕСТРА_NOUN\tДЕД_NOUN\tБАБКА_NOUN\n",
      "БРАТ_NOUN\tСЕСТРА_NOUN\tОТЧИМ_NOUN\tМАЧЕХА_NOUN\n",
      "ПАПА_NOUN\tМАМА_NOUN\tДЕД_NOUN\tБАБКА_NOUN\n",
      "ПАПА_NOUN\tМАМА_NOUN\tОТЧИМ_NOUN\tМАЧЕХА_NOUN\n",
      "ДЕД_NOUN\tБАБКА_NOUN\tКОРОЛЬ_NOUN\tКОРОЛЕВА_NOUN\n",
      "ДЕД_NOUN\tБАБКА_NOUN\tОТЧИМ_NOUN\tМАЧЕХА_NOUN\n",
      "ДЕДУШКА_NOUN\tБАБУШКА_NOUN\tМУЖ_NOUN\tЖЕНА_NOUN\n",
      "ДЕДУШКА_NOUN\tБАБУШКА_NOUN\tТЕСТЬ_NOUN\tТЕЩА_NOUN\n"
     ]
    }
   ],
   "source": [
    "for row in res2[4]['incorrect'][:10]:\n",
    "    print('\\t'.join(row))"
   ]
  },
  {
   "cell_type": "markdown",
   "metadata": {},
   "source": [
    "**Визуализация**"
   ]
  },
  {
   "cell_type": "markdown",
   "metadata": {},
   "source": [
    "Можно использовать разные методы того, как преобразовать векторы так, чтобы можно было их поместить на двумерное пространство, например, с помощью PCA. В зависимости от того, относительно какого набора слов вы пытаетесь найти оптимально отображение на двумерное пространство, у вас могут получаться разные результаты"
   ]
  },
  {
   "cell_type": "code",
   "execution_count": 54,
   "metadata": {},
   "outputs": [],
   "source": [
    "from sklearn.decomposition import PCA\n",
    "import matplotlib.pyplot as plt\n",
    "%matplotlib inline"
   ]
  },
  {
   "cell_type": "code",
   "execution_count": 70,
   "metadata": {},
   "outputs": [],
   "source": [
    "words = ['хороший_A', 'плохой_A', 'ужасный_A','жуткий_A', 'страшный_A', 'красный_A', 'синий_A']\n",
    "X = model[words]"
   ]
  },
  {
   "cell_type": "markdown",
   "metadata": {},
   "source": [
    "На списке конкретных слов"
   ]
  },
  {
   "cell_type": "code",
   "execution_count": 71,
   "metadata": {},
   "outputs": [],
   "source": [
    "pca = PCA(n_components=2)\n",
    "coords = pca.fit_transform(X)"
   ]
  },
  {
   "cell_type": "code",
   "execution_count": 72,
   "metadata": {},
   "outputs": [
    {
     "data": {
      "image/png": "[encoded data removed]",
      "text/plain": [
       "<Figure size 432x288 with 1 Axes>"
      ]
     },
     "metadata": {
      "needs_background": "light"
     },
     "output_type": "display_data"
    }
   ],
   "source": [
    "plt.scatter(coords[:, 0], coords[:, 1], color='red')\n",
    "plt.title('Words')\n",
    "\n",
    "for i, word in enumerate(words):\n",
    "    plt.annotate(word, xy=(coords[i, 0], coords[i, 1]))\n",
    "plt.show()"
   ]
  },
  {
   "cell_type": "markdown",
   "metadata": {},
   "source": [
    "На все словах в модели"
   ]
  },
  {
   "cell_type": "code",
   "execution_count": 73,
   "metadata": {},
   "outputs": [],
   "source": [
    "pca = PCA(n_components=2)\n",
    "pca.fit(model[list(model.vocab)])\n",
    "coords = pca.transform(model[words])"
   ]
  },
  {
   "cell_type": "code",
   "execution_count": 74,
   "metadata": {},
   "outputs": [
    {
     "data": {
      "image/png": "[encoded data removed]",
      "text/plain": [
       "<Figure size 432x288 with 1 Axes>"
      ]
     },
     "metadata": {
      "needs_background": "light"
     },
     "output_type": "display_data"
    }
   ],
   "source": [
    "plt.scatter(coords[:, 0], coords[:, 1], color='red')\n",
    "plt.title('Words на всей модели')\n",
    "\n",
    "for i, word in enumerate(words):\n",
    "    plt.annotate(word, xy=(coords[i, 0], coords[i, 1]))\n",
    "plt.show()"
   ]
  },
  {
   "cell_type": "markdown",
   "metadata": {},
   "source": [
    "Вторая модель:"
   ]
  },
  {
   "cell_type": "code",
   "execution_count": 75,
   "metadata": {},
   "outputs": [],
   "source": [
    "X2 = model2[words2]\n",
    "coords2 = pca.fit_transform(X2)"
   ]
  },
  {
   "cell_type": "code",
   "execution_count": 76,
   "metadata": {},
   "outputs": [
    {
     "data": {
      "image/png": "[encoded data removed]",
      "text/plain": [
       "<Figure size 432x288 with 1 Axes>"
      ]
     },
     "metadata": {
      "needs_background": "light"
     },
     "output_type": "display_data"
    }
   ],
   "source": [
    "plt.scatter(coords2[:, 0], coords2[:, 1], color='red')\n",
    "plt.title('Words 2')\n",
    "\n",
    "for i, word in enumerate(words2):\n",
    "    plt.annotate(word, xy=(coords2[i, 0], coords2[i, 1]))\n",
    "plt.show()"
   ]
  },
  {
   "cell_type": "code",
   "execution_count": 77,
   "metadata": {},
   "outputs": [],
   "source": [
    "pca.fit(model2[list(model2.vocab)])\n",
    "coords3 = pca.transform(model2[words2])"
   ]
  },
  {
   "cell_type": "code",
   "execution_count": 78,
   "metadata": {},
   "outputs": [
    {
     "data": {
      "image/png": "[encoded data removed]",
      "text/plain": [
       "<Figure size 432x288 with 1 Axes>"
      ]
     },
     "metadata": {
      "needs_background": "light"
     },
     "output_type": "display_data"
    }
   ],
   "source": [
    "plt.scatter(coords3[:, 0], coords3[:, 1], color='red')\n",
    "plt.title('Words 2 на всей модели')\n",
    "\n",
    "for i, word in enumerate(words2):\n",
    "    plt.annotate(word, xy=(coords3[i, 0], coords3[i, 1]))\n",
    "plt.show()"
   ]
  },
  {
   "cell_type": "markdown",
   "metadata": {},
   "source": [
    "### Дальше: кластеризация"
   ]
  },
  {
   "cell_type": "markdown",
   "metadata": {},
   "source": [
    "# Задание"
   ]
  },
  {
   "cell_type": "markdown",
   "metadata": {},
   "source": [
    "1. Найдите по 5 ближайших слов к словам \"город\", \"деревня\", \"спорт\", \"бизнес\", \"Россия\", \"происшествие\", \"река\", \"озеро\", \"море\", \"горы\", \"депутат\", \"врач\", \"север\", \"юг\", \"Кавказ\", \"Сибирь\", \"газпром\", название своего родного города... Учтите, что слова может не быть в модели!\n",
    "\n",
    "\n",
    "2. Посчитайте семантическую близкость слов \"театр\" и \"кино\", \"Владивосток\" и \"Москва\", \"церковь\" и \"государство\", \"культура\" и \"отдых\", \"преступление\" и \"наказание\". Можете придумать свои пары слов.\n",
    "\n",
    "\n",
    "3. Решите примеры (можно придумать свои):\n",
    " * москва + екатеринбург - собянин\n",
    " * спартак - москва + санкт-петербург\n",
    " * иркутск - байкал + сочи\n",
    " * татарстан - татарский + бурятия\n",
    " * чай - лимон + кофе\n",
    " * авиакомпания - аэрофлот + ржд\n",
    " \n",
    " \n",
    "4. Найдите лишнее, попробуйте интерпретировать результаты\n",
    " * магазин, супермаркет, рынок, тц\n",
    " * теннис, хоккей, футбол, дзюдо\n",
    " * кошка, собака, попугай, кролик\n",
    " * коми, дагестан, башкирия, камчатка"
   ]
  },
  {
   "cell_type": "markdown",
   "metadata": {},
   "source": [
    "Если нужны ответы, пишите в тг @Polyana_A"
   ]
  }
 ],
 "metadata": {
  "kernelspec": {
   "display_name": "Python 3",
   "language": "python",
   "name": "python3"
  },
  "language_info": {
   "codemirror_mode": {
    "name": "ipython",
    "version": 3
   },
   "file_extension": ".py",
   "mimetype": "text/x-python",
   "name": "python",
   "nbconvert_exporter": "python",
   "pygments_lexer": "ipython3",
   "version": "3.7.3"
  }
 },
 "nbformat": 4,
 "nbformat_minor": 2
}
